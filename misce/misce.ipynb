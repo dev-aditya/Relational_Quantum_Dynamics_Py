{
 "cells": [
  {
   "cell_type": "code",
   "execution_count": 29,
   "metadata": {},
   "outputs": [],
   "source": [
    "import qutip as qt\n",
    "import numpy as np\n",
    "\n",
    "I = qt.qeye(2)\n",
    "X = qt.sigmax()\n",
    "Y = qt.sigmay()\n",
    "Z = qt.sigmaz()"
   ]
  },
  {
   "cell_type": "code",
   "execution_count": 185,
   "metadata": {},
   "outputs": [
    {
     "data": {
      "text/latex": [
       "Quantum object: dims = [[2, 2], [2, 2]], shape = (4, 4), type = oper, isherm = True $ \\\\ \\left(\\begin{matrix}1.000 & 0.0 & 0.0 & 0.0\\\\0.0 & 1.000 & 0.0 & 0.0\\\\0.0 & 0.0 & 1.000 & 0.0\\\\0.0 & 0.0 & 0.0 & 1.000\\\\\\end{matrix}\\right)$"
      ],
      "text/plain": [
       "Quantum object: dims = [[2, 2], [2, 2]], shape = (4, 4), type = oper, isherm = True\n",
       "Qobj data =\n",
       "[[1. 0. 0. 0.]\n",
       " [0. 1. 0. 0.]\n",
       " [0. 0. 1. 0.]\n",
       " [0. 0. 0. 1.]]"
      ]
     },
     "execution_count": 185,
     "metadata": {},
     "output_type": "execute_result"
    }
   ],
   "source": [
    "#U1 = 1 / np.sqrt(2) * np.matrix(np.array([[1, 1, 0, 0],[1, -1, 0, 0],[0, 0, 1, 0],[0, 0, 0, 1]]))\n",
    "#U2 = 1 / np.sqrt(2) * np.matrix(np.array([[0, 0, 1, -1],[0, 0, 1, 1],[1, 1, 0, 0],[-1, 1, 0, 0]]))\n",
    "#U3 = 1/np.sqrt(2)* np.block([[I, I],[-X, X]])\n",
    "U4 =  1/np.sqrt(2)*np.block([[I, Y],[I,-Y]])\n",
    "U = qt.Qobj(U4, dims=[[2, 2], [2, 2]])\n",
    "(U * U.dag())"
   ]
  },
  {
   "cell_type": "code",
   "execution_count": 193,
   "metadata": {},
   "outputs": [],
   "source": [
    "H2 = qt.tensor(qt.qeye(2), qt.sigmaz()) #+ qt.tensor(qt.sigmax(), qt.qeye(2))\n",
    "H1 = qt.tensor(qt.sigmay(), qt.qeye(2)) #+ qt.tensor(qt.qeye(2), qt.sigmax())"
   ]
  },
  {
   "cell_type": "code",
   "execution_count": 194,
   "metadata": {},
   "outputs": [
    {
     "data": {
      "text/latex": [
       "Quantum object: dims = [[2, 2], [2, 2]], shape = (4, 4), type = oper, isherm = True $ \\\\ \\left(\\begin{matrix}0.0 & 0.0 & 0.0 & 1.000\\\\0.0 & 0.0 & -1.000 & 0.0\\\\0.0 & -1.000 & 0.0 & 0.0\\\\1.000 & 0.0 & 0.0 & 0.0\\\\\\end{matrix}\\right)$"
      ],
      "text/plain": [
       "Quantum object: dims = [[2, 2], [2, 2]], shape = (4, 4), type = oper, isherm = True\n",
       "Qobj data =\n",
       "[[ 0.  0.  0.  1.]\n",
       " [ 0.  0. -1.  0.]\n",
       " [ 0. -1.  0.  0.]\n",
       " [ 1.  0.  0.  0.]]"
      ]
     },
     "metadata": {},
     "output_type": "display_data"
    },
    {
     "data": {
      "text/latex": [
       "Quantum object: dims = [[2, 2], [2, 2]], shape = (4, 4), type = oper, isherm = True $ \\\\ \\left(\\begin{matrix}0.0 & 0.0 & 1.000 & 0.0\\\\0.0 & 0.0 & 0.0 & -1.000\\\\1.000 & 0.0 & 0.0 & 0.0\\\\0.0 & -1.000 & 0.0 & 0.0\\\\\\end{matrix}\\right)$"
      ],
      "text/plain": [
       "Quantum object: dims = [[2, 2], [2, 2]], shape = (4, 4), type = oper, isherm = True\n",
       "Qobj data =\n",
       "[[ 0.  0.  1.  0.]\n",
       " [ 0.  0.  0. -1.]\n",
       " [ 1.  0.  0.  0.]\n",
       " [ 0. -1.  0.  0.]]"
      ]
     },
     "metadata": {},
     "output_type": "display_data"
    }
   ],
   "source": [
    "display(U * H1 * U.dag())\n",
    "display(U * H2 * U.dag())"
   ]
  },
  {
   "cell_type": "code",
   "execution_count": null,
   "metadata": {},
   "outputs": [],
   "source": []
  }
 ],
 "metadata": {
  "kernelspec": {
   "display_name": ".venv",
   "language": "python",
   "name": "python3"
  },
  "language_info": {
   "codemirror_mode": {
    "name": "ipython",
    "version": 3
   },
   "file_extension": ".py",
   "mimetype": "text/x-python",
   "name": "python",
   "nbconvert_exporter": "python",
   "pygments_lexer": "ipython3",
   "version": "3.8.3"
  },
  "orig_nbformat": 4
 },
 "nbformat": 4,
 "nbformat_minor": 2
}
